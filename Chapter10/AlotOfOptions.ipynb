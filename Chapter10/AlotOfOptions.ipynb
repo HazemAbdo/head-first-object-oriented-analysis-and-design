{
 "cells": [
  {
   "cell_type": "markdown",
   "metadata": {},
   "source": [
    "![](./img/lifecycle1.png)\n",
    "\n",
    "![](./img/lifecycle2.png)\n",
    "\n",
    "\n",
    "-----\n",
    "-----\n",
    "\n",
    "\n",
    "\n",
    "![](./img/AlotOfOptions.png)\n",
    "\n",
    "Q: It seems like I could put almost every magnet on each phase... but that can’t be right, can it? \n",
    "\n",
    "A: That’s exactly right. Although there are definitely some basic phases in a good development cycle, you can use most of the things you’ve learned about OOA&D, OO principles, design, analysis, requirements, and everything else at almost every stage of development. The most effective and successful way to write great software is to have as many tools as you can, and to be able to choose any one (or more) to use at each stage of your development cycle. The more tools you have, the more ways you’ll have to look at and work on a problem... and that means less time being stuck or not knowing what to do next.\n",
    "\n",
    "**OOA&D is about having lots of options. There is never one right way to solve a problem, so the more options you have, the better chance you’ll find a good solution to every problem.**"
   ]
  }
 ],
 "metadata": {
  "kernelspec": {
   "display_name": "Python 3.9.0 64-bit",
   "language": "python",
   "name": "python3"
  },
  "language_info": {
   "name": "python",
   "version": "3.9.0"
  },
  "orig_nbformat": 4,
  "vscode": {
   "interpreter": {
    "hash": "c643d9f149e4249868a18915091ba67879cea58d4ea61b523066383dcc8e9746"
   }
  }
 },
 "nbformat": 4,
 "nbformat_minor": 2
}
