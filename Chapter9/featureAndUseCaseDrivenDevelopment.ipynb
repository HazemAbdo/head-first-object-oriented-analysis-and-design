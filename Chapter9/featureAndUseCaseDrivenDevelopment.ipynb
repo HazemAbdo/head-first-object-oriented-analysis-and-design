{
 "cells": [
  {
   "cell_type": "markdown",
   "metadata": {},
   "source": [
    "## feature Driven Development\n",
    "* is when you pick a specific feature in your app, and plan, analyze, and develop that feature to completion.\n",
    "* Works well when you have a lot of different features that don’t interconnect a whole lot\n",
    "* Allows you to show the customer working code faster.\n",
    "* Is very functionality-driven. You’re not going to forget about any features\n",
    "using feature driven development\n",
    "* Works particularly well on systems with lots of disconnected pieces of functionality.\n",
    "\n",
    "## Use Case Driven Development\n",
    "* is when you pick a scenario through a use case, and write code to support that complete scenario through the use case.\n",
    "* Works well when your app has lots of processes and scenarios rather than individual pieces of functionality\n",
    "* Allows you to show the customer bigger pieces of functionality at each stage of development\n",
    "* Is very user-centric. You’ll code for all the different ways a user can use your system with use case driven\n",
    "development\n",
    "* Works particularly well on transactional systems, where the system is largely defined by lengthy, complicated processes.\n",
    "\n",
    "**Anytime you’ve got a customer impatient to see results, you should consider feature driven development**\n",
    "\n",
    "## Test driven development\n",
    "* focuses on getting the behavior of your classes right.\n",
    "* writes test scenarios for a piece of functionality before writing the code for that functionality. Then you write software to pass all the tests."
   ]
  }
 ],
 "metadata": {
  "kernelspec": {
   "display_name": "Python 3.9.0 64-bit",
   "language": "python",
   "name": "python3"
  },
  "language_info": {
   "name": "python",
   "version": "3.9.0"
  },
  "orig_nbformat": 4,
  "vscode": {
   "interpreter": {
    "hash": "c643d9f149e4249868a18915091ba67879cea58d4ea61b523066383dcc8e9746"
   }
  }
 },
 "nbformat": 4,
 "nbformat_minor": 2
}
