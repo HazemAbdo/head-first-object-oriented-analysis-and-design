{
 "cells": [
  {
   "cell_type": "markdown",
   "metadata": {},
   "source": [
    "## Defensive programming \n",
    "Doesn’t trust other software, and does extensive error and data checking to ensure the other software doesn’t give you bad or unsafe information.\n",
    "\n",
    "![](./img/Defensive.png)\n",
    "\n",
    "## By contract programming \n",
    "sets up an agreement about how your software behaves that you and users of your software agree to abide by.\n",
    "\n",
    "![](./img/ByContract.png)"
   ]
  }
 ],
 "metadata": {
  "kernelspec": {
   "display_name": "Python 3.9.0 64-bit",
   "language": "python",
   "name": "python3"
  },
  "language_info": {
   "name": "python",
   "version": "3.9.0"
  },
  "orig_nbformat": 4,
  "vscode": {
   "interpreter": {
    "hash": "c643d9f149e4249868a18915091ba67879cea58d4ea61b523066383dcc8e9746"
   }
  }
 },
 "nbformat": 4,
 "nbformat_minor": 2
}
