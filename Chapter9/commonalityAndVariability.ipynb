{
 "cells": [
  {
   "cell_type": "markdown",
   "metadata": {},
   "source": [
    "In fact, even if two programmers made the same decision about commonality and variability , it can lead to totally different design decisions when it comes to actually writing your classes.\n",
    "\n",
    "So accept the **tradeoffs** and make the best of it.\n",
    "\n",
    "## Solution #1: Emphasizing Commonality\n",
    "![](./img/EmphasizingCommonality.png)\n",
    " ### Problems in this approach\n",
    "   * Maintenance is a problem Now you’ve got property names, like id and name, hardcoded into the Unit class. If a game designer doesn’t want to use those, or wants to change them, it’s going to be a real hassle, and require changes to the Unit class. This is usually where encapsulation would help, and that leads us to Randy’s design choice...\n",
    "   * We’re repeating ourselves Now there are two different ways to access properties: through the getId(), getName(), and property-specific methods, and the getProperty() method. Two ways to access properties is almost certainly going to mean duplicate code somewhere\n",
    "## Solution #2: Emphasizing Encapsulation\n",
    "![](./img/Emphasizing%20Encapsulation.png)\n",
    " ### Problems in this approach\n",
    "   * We’re ignoring commonality Randy encapsulated all of the properties into the properties Map, but now there’s nothing to indicate that type, name, id, and weapons are intended to be properties common to all Unit types.\n",
    "   * Lots of work at runtime getProperty() returns an Object, and you’re going to have to cast that into the right value type for each different property, all at runtime. That’s a lot of casting, and a lot of extra work that your code has to do at runtime, even for the properties that are common to all Unit types."
   ]
  }
 ],
 "metadata": {
  "kernelspec": {
   "display_name": "Python 3.9.0 64-bit",
   "language": "python",
   "name": "python3"
  },
  "language_info": {
   "name": "python",
   "version": "3.9.0"
  },
  "orig_nbformat": 4,
  "vscode": {
   "interpreter": {
    "hash": "c643d9f149e4249868a18915091ba67879cea58d4ea61b523066383dcc8e9746"
   }
  }
 },
 "nbformat": 4,
 "nbformat_minor": 2
}
