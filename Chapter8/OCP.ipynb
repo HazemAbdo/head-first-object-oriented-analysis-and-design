{
 "cells": [
  {
   "cell_type": "markdown",
   "metadata": {},
   "source": [
    "# The Open-Closed Principle (OCP)\n",
    "* The OCP is all about allowing change, but doing it without requiring you to modify existing code. Here’s how we   usually define the OCP:\n",
    "* Open-Closed Principle:Classes should be **open for extension,and closed for modification**.\n",
    "OCP is really a combination of encapsulation and abstraction.\n",
    "-------------------------------------------------------------------------------------------------------------------\n",
    "* E.g.InstrumentSpec is closed for modification; the matches() method is defined in the base class\n",
    "and doesn’t change.But it’s open for extension, because all of the subclasses can change the behavior of matches()\n",
    "![](./img/OCP.png)\n",
    "-------------------------------------------------------------------------------------------------------------------\n",
    "### OCP step by step\n",
    "1. We coded matches() in InstrumentSpec. java, and closed it for modification.\n",
    "2. But we needed to modify matches() to work with instrument-specific spec classes\n",
    "3. So we **extended** InstrumentSpec, and **overrode** matches() to change its behavior\n"
   ]
  }
 ],
 "metadata": {
  "kernelspec": {
   "display_name": "Python 3.9.0 64-bit",
   "language": "python",
   "name": "python3"
  },
  "language_info": {
   "name": "python",
   "version": "3.9.0"
  },
  "orig_nbformat": 4,
  "vscode": {
   "interpreter": {
    "hash": "c643d9f149e4249868a18915091ba67879cea58d4ea61b523066383dcc8e9746"
   }
  }
 },
 "nbformat": 4,
 "nbformat_minor": 2
}
