{
 "cells": [
  {
   "cell_type": "markdown",
   "metadata": {},
   "source": [
    "# The Don’t Repeat Yourself Principle (DRY)\n",
    "* Avoid duplicate code by abstracting out things that are common and placing those things in a single location.\n",
    "* DRY is about having each piece of information and behavior in your system in a single, **sensible place**.\n",
    "* DRY applies to requirements as well as your code: you should have each feature and requirement \n",
    "in your software implemented in a single place.\n",
    "\n",
    "![](./img/DRY.png)"
   ]
  }
 ],
 "metadata": {
  "kernelspec": {
   "display_name": "Python 3.9.0 64-bit",
   "language": "python",
   "name": "python3"
  },
  "language_info": {
   "name": "python",
   "version": "3.9.0"
  },
  "orig_nbformat": 4,
  "vscode": {
   "interpreter": {
    "hash": "c643d9f149e4249868a18915091ba67879cea58d4ea61b523066383dcc8e9746"
   }
  }
 },
 "nbformat": 4,
 "nbformat_minor": 2
}
