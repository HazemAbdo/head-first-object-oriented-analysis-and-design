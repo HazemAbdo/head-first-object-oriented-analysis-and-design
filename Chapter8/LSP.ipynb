{
 "cells": [
  {
   "cell_type": "markdown",
   "metadata": {},
   "source": [
    "# The Liskov Substitution Principle (LSP)\n",
    "* **Subtypes must be substitutable for their base types**\n",
    "* The LSP is all about well-designed inheritance. When you inherit from a base class, you must be able to substitute your subclass for that base class without things going terribly wrong. Otherwise, you’ve used inheritance incorrectly!\n",
    "----\n",
    "### Example\n",
    "Here there is no meaning we can't use *3D* board in places where *2D* board is used.then we violate LSP.\n",
    "![](./img/MisUsingInheritance.png)\n",
    "![](./img/MisUsingInheritance2.png)\n",
    "\n",
    "-----\n",
    "### when you violate LSP think about the following: \n",
    "1.Delegation:Delegation is when you hand over the responsibility for a particular task to another class or method,Delegation is best used when you want to use another class’s functionality, as is, **without changing that behavior at all**. \n",
    "\n",
    "![](./img/Delegation.png)\n",
    "\n",
    "2.Use composition to assemble behaviors from other classesWhen we reference a whole family of behaviors like in the Unit class, we’re using composition.When an object is composed of other objects, and the owning object is destroyed, the objects that are part of the composition **go away, too**.\n",
    "\n",
    "3.Aggregation: composition, without the abrupt ending.What happens when you want all the benefits of composition—flexibility in choosing a behavior, and adhering to the LSP— **but your composed objects need to exist outside of your main object?** That’s where aggregation comes in.\n",
    "\n",
    "***If you favor delegation, composition, and aggregation over inheritance, your software will usually be more flexible, and easier to maintain, extend, and reuse.***"
   ]
  }
 ],
 "metadata": {
  "kernelspec": {
   "display_name": "Python 3.9.0 64-bit",
   "language": "python",
   "name": "python3"
  },
  "language_info": {
   "name": "python",
   "version": "3.9.0"
  },
  "orig_nbformat": 4,
  "vscode": {
   "interpreter": {
    "hash": "c643d9f149e4249868a18915091ba67879cea58d4ea61b523066383dcc8e9746"
   }
  }
 },
 "nbformat": 4,
 "nbformat_minor": 2
}
