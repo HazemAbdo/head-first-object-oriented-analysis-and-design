{
 "cells": [
  {
   "cell_type": "markdown",
   "metadata": {},
   "source": [
    "# The Single Responsibility Principle (SRP)\n",
    "Every object in your system should have a single responsibility, and all the\n",
    "object’s services should be focused on carrying out that single responsibility\n",
    "\n",
    "![](./img/SRP.png)"
   ]
  }
 ],
 "metadata": {
  "kernelspec": {
   "display_name": "Python 3.9.0 64-bit",
   "language": "python",
   "name": "python3"
  },
  "language_info": {
   "name": "python",
   "version": "3.9.0"
  },
  "orig_nbformat": 4,
  "vscode": {
   "interpreter": {
    "hash": "c643d9f149e4249868a18915091ba67879cea58d4ea61b523066383dcc8e9746"
   }
  }
 },
 "nbformat": 4,
 "nbformat_minor": 2
}
